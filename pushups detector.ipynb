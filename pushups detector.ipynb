{
 "cells": [
  {
   "cell_type": "code",
   "execution_count": 1,
   "id": "bf64b007",
   "metadata": {},
   "outputs": [
    {
     "name": "stdout",
     "output_type": "stream",
     "text": [
      "Requirement already satisfied: opencv-python in /Users/rohitpoddar/opt/anaconda3/envs/pushups/lib/python3.9/site-packages (4.7.0.72)\n",
      "Requirement already satisfied: mediapipe in /Users/rohitpoddar/opt/anaconda3/envs/pushups/lib/python3.9/site-packages (0.9.1.0)\n",
      "Requirement already satisfied: numpy in /Users/rohitpoddar/opt/anaconda3/envs/pushups/lib/python3.9/site-packages (1.25.0)\n",
      "Requirement already satisfied: absl-py in /Users/rohitpoddar/opt/anaconda3/envs/pushups/lib/python3.9/site-packages (from mediapipe) (1.4.0)\n",
      "Requirement already satisfied: attrs>=19.1.0 in /Users/rohitpoddar/opt/anaconda3/envs/pushups/lib/python3.9/site-packages (from mediapipe) (22.1.0)\n",
      "Requirement already satisfied: flatbuffers>=2.0 in /Users/rohitpoddar/opt/anaconda3/envs/pushups/lib/python3.9/site-packages (from mediapipe) (23.5.26)\n",
      "Requirement already satisfied: matplotlib in /Users/rohitpoddar/opt/anaconda3/envs/pushups/lib/python3.9/site-packages (from mediapipe) (3.7.1)\n",
      "Requirement already satisfied: opencv-contrib-python in /Users/rohitpoddar/opt/anaconda3/envs/pushups/lib/python3.9/site-packages (from mediapipe) (4.7.0.72)\n",
      "Requirement already satisfied: protobuf<4,>=3.11 in /Users/rohitpoddar/opt/anaconda3/envs/pushups/lib/python3.9/site-packages (from mediapipe) (3.20.3)\n",
      "Requirement already satisfied: contourpy>=1.0.1 in /Users/rohitpoddar/opt/anaconda3/envs/pushups/lib/python3.9/site-packages (from matplotlib->mediapipe) (1.1.0)\n",
      "Requirement already satisfied: cycler>=0.10 in /Users/rohitpoddar/opt/anaconda3/envs/pushups/lib/python3.9/site-packages (from matplotlib->mediapipe) (0.11.0)\n",
      "Requirement already satisfied: fonttools>=4.22.0 in /Users/rohitpoddar/opt/anaconda3/envs/pushups/lib/python3.9/site-packages (from matplotlib->mediapipe) (4.40.0)\n",
      "Requirement already satisfied: kiwisolver>=1.0.1 in /Users/rohitpoddar/opt/anaconda3/envs/pushups/lib/python3.9/site-packages (from matplotlib->mediapipe) (1.4.4)\n",
      "Requirement already satisfied: packaging>=20.0 in /Users/rohitpoddar/opt/anaconda3/envs/pushups/lib/python3.9/site-packages (from matplotlib->mediapipe) (23.0)\n",
      "Requirement already satisfied: pillow>=6.2.0 in /Users/rohitpoddar/opt/anaconda3/envs/pushups/lib/python3.9/site-packages (from matplotlib->mediapipe) (9.5.0)\n",
      "Requirement already satisfied: pyparsing>=2.3.1 in /Users/rohitpoddar/opt/anaconda3/envs/pushups/lib/python3.9/site-packages (from matplotlib->mediapipe) (3.1.0)\n",
      "Requirement already satisfied: python-dateutil>=2.7 in /Users/rohitpoddar/opt/anaconda3/envs/pushups/lib/python3.9/site-packages (from matplotlib->mediapipe) (2.8.2)\n",
      "Requirement already satisfied: importlib-resources>=3.2.0 in /Users/rohitpoddar/opt/anaconda3/envs/pushups/lib/python3.9/site-packages (from matplotlib->mediapipe) (5.12.0)\n",
      "Requirement already satisfied: zipp>=3.1.0 in /Users/rohitpoddar/opt/anaconda3/envs/pushups/lib/python3.9/site-packages (from importlib-resources>=3.2.0->matplotlib->mediapipe) (3.11.0)\n",
      "Requirement already satisfied: six>=1.5 in /Users/rohitpoddar/opt/anaconda3/envs/pushups/lib/python3.9/site-packages (from python-dateutil>=2.7->matplotlib->mediapipe) (1.16.0)\n",
      "Note: you may need to restart the kernel to use updated packages.\n"
     ]
    }
   ],
   "source": [
    "pip install opencv-python mediapipe numpy\n"
   ]
  },
  {
   "cell_type": "code",
   "execution_count": 4,
   "id": "1e10517a",
   "metadata": {},
   "outputs": [
    {
     "name": "stdout",
     "output_type": "stream",
     "text": [
      "Hello!! Are you ready to do pushups?\n",
      "Type 'yes' to continue: yes\n",
      "Do you want to close the operation?\n",
      "Type 'yes' to close: yes\n"
     ]
    }
   ],
   "source": [
    "import cv2\n",
    "import mediapipe as mp\n",
    "import math\n",
    "\n",
    "def calculate_angle(a, b, c):\n",
    "    # Calculate the angle between three points using the dot product\n",
    "    radians = math.atan2(c.y - b.y, c.x - b.x) - math.atan2(a.y - b.y, a.x - b.x)\n",
    "    angle = abs(math.degrees(radians))\n",
    "    return angle\n",
    "\n",
    "def detect_pushups():\n",
    "    cap = cv2.VideoCapture(0)\n",
    "    mp_pose = mp.solutions.pose\n",
    "    pose = mp_pose.Pose(static_image_mode=False, min_detection_confidence=0.5, min_tracking_confidence=0.5)\n",
    "    mp_drawing = mp.solutions.drawing_utils\n",
    "\n",
    "    detection_threshold = 3  # Number of consecutive frames without detection before displaying \"Unable to detect\"\n",
    "    detection_counter = 0\n",
    "\n",
    "    # Display initial prompt\n",
    "    print(\"Hello!! Are you ready to do pushups?\")\n",
    "    answer = input(\"Type 'yes' to continue: \")\n",
    "    if answer.lower() != 'yes':\n",
    "        cap.release()\n",
    "        cv2.destroyAllWindows()\n",
    "        return\n",
    "\n",
    "    while True:\n",
    "        ret, frame = cap.read()\n",
    "        if not ret:\n",
    "            break\n",
    "\n",
    "        frame_rgb = cv2.cvtColor(frame, cv2.COLOR_BGR2RGB)\n",
    "        results = pose.process(frame_rgb)\n",
    "\n",
    "        if results.pose_landmarks is not None:\n",
    "            detection_counter = 0  # Reset detection counter\n",
    "            left_shoulder = results.pose_landmarks.landmark[mp_pose.PoseLandmark.LEFT_SHOULDER]\n",
    "            right_shoulder = results.pose_landmarks.landmark[mp_pose.PoseLandmark.RIGHT_SHOULDER]\n",
    "            left_hip = results.pose_landmarks.landmark[mp_pose.PoseLandmark.LEFT_HIP]\n",
    "\n",
    "            angle = calculate_angle(left_shoulder, right_shoulder, left_hip)\n",
    "\n",
    "            if angle > 160:\n",
    "                cv2.putText(frame, \"Pushup\", (10, 30), cv2.FONT_HERSHEY_SIMPLEX, 1, (0, 255, 0), 2, cv2.LINE_AA)\n",
    "            else:\n",
    "                cv2.putText(frame, \"Not a Pushup\", (10, 30), cv2.FONT_HERSHEY_SIMPLEX, 1, (0, 255, 0), 2, cv2.LINE_AA)\n",
    "        else:\n",
    "            detection_counter += 1\n",
    "            if detection_counter >= detection_threshold:\n",
    "                cv2.putText(frame, \"Unable to detect\", (10, 30), cv2.FONT_HERSHEY_SIMPLEX, 1, (0, 0, 255), 2, cv2.LINE_AA)\n",
    "\n",
    "        mp_drawing.draw_landmarks(frame, results.pose_landmarks, mp_pose.POSE_CONNECTIONS)\n",
    "        cv2.imshow(\"Push-up Detection\", frame)\n",
    "\n",
    "        # Check for keyboard input\n",
    "        key = cv2.waitKey(1) & 0xFF\n",
    "        if key == ord('q'):\n",
    "            break\n",
    "        elif key == ord('x'):\n",
    "            print(\"Do you want to close the operation?\")\n",
    "            close_answer = input(\"Type 'yes' to close: \")\n",
    "            if close_answer.lower() == 'yes':\n",
    "                break\n",
    "\n",
    "    cap.release()\n",
    "    cv2.destroyAllWindows()\n",
    "\n",
    "detect_pushups()\n"
   ]
  },
  {
   "cell_type": "code",
   "execution_count": null,
   "id": "3cf9f04f",
   "metadata": {},
   "outputs": [],
   "source": []
  },
  {
   "cell_type": "code",
   "execution_count": null,
   "id": "d17ad959",
   "metadata": {},
   "outputs": [],
   "source": []
  },
  {
   "cell_type": "code",
   "execution_count": null,
   "id": "7dc96289",
   "metadata": {},
   "outputs": [],
   "source": []
  },
  {
   "cell_type": "code",
   "execution_count": null,
   "id": "8e63d414",
   "metadata": {},
   "outputs": [],
   "source": []
  },
  {
   "cell_type": "code",
   "execution_count": null,
   "id": "a8ae9a1d",
   "metadata": {},
   "outputs": [],
   "source": []
  },
  {
   "cell_type": "code",
   "execution_count": null,
   "id": "0ae26b93",
   "metadata": {},
   "outputs": [],
   "source": []
  },
  {
   "cell_type": "code",
   "execution_count": null,
   "id": "f1c014dd",
   "metadata": {},
   "outputs": [],
   "source": []
  },
  {
   "cell_type": "code",
   "execution_count": null,
   "id": "a702432b",
   "metadata": {},
   "outputs": [],
   "source": []
  },
  {
   "cell_type": "code",
   "execution_count": null,
   "id": "83a13db2",
   "metadata": {},
   "outputs": [],
   "source": []
  }
 ],
 "metadata": {
  "kernelspec": {
   "display_name": "Python 3 (ipykernel)",
   "language": "python",
   "name": "python3"
  },
  "language_info": {
   "codemirror_mode": {
    "name": "ipython",
    "version": 3
   },
   "file_extension": ".py",
   "mimetype": "text/x-python",
   "name": "python",
   "nbconvert_exporter": "python",
   "pygments_lexer": "ipython3",
   "version": "3.9.16"
  }
 },
 "nbformat": 4,
 "nbformat_minor": 5
}
